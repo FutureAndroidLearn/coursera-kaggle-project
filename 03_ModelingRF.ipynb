{
  "nbformat": 4,
  "nbformat_minor": 0,
  "metadata": {
    "kernelspec": {
      "display_name": "Python 3",
      "language": "python",
      "name": "python3"
    },
    "language_info": {
      "codemirror_mode": {
        "name": "ipython",
        "version": 3
      },
      "file_extension": ".py",
      "mimetype": "text/x-python",
      "name": "python",
      "nbconvert_exporter": "python",
      "pygments_lexer": "ipython3",
      "version": "3.7.6"
    },
    "colab": {
      "name": "03_ModelingRF.ipynb",
      "provenance": [],
      "include_colab_link": true
    }
  },
  "cells": [
    {
      "cell_type": "markdown",
      "metadata": {
        "id": "view-in-github",
        "colab_type": "text"
      },
      "source": [
        "<a href=\"https://colab.research.google.com/github/FutureAndroidLearn/coursera-kaggle-project/blob/master/03_ModelingRF.ipynb\" target=\"_parent\"><img src=\"https://colab.research.google.com/assets/colab-badge.svg\" alt=\"Open In Colab\"/></a>"
      ]
    },
    {
      "cell_type": "code",
      "metadata": {
        "id": "Sj1Be2Y0jnlL",
        "colab_type": "code",
        "outputId": "c1ca4c43-a9a1-4f2d-8a98-0c63e67d0550",
        "colab": {
          "base_uri": "https://localhost:8080/",
          "height": 71
        }
      },
      "source": [
        "import numpy as np\n",
        "import pandas as pd\n",
        "\n",
        "import seaborn as sns\n",
        "import matplotlib.pyplot as plt\n",
        "import matplotlib.dates as mdates\n",
        "%matplotlib inline\n",
        "\n",
        "from sklearn.metrics import mean_squared_error\n",
        "from sklearn.ensemble import RandomForestRegressor\n",
        "from lightgbm import LGBMRegressor\n",
        "\n",
        "import statsmodels.formula.api as smf\n",
        "from sklearn.preprocessing import MinMaxScaler\n",
        "\n",
        "from sklearn.ensemble import RandomForestRegressor"
      ],
      "execution_count": 1,
      "outputs": [
        {
          "output_type": "stream",
          "text": [
            "/usr/local/lib/python3.6/dist-packages/statsmodels/tools/_testing.py:19: FutureWarning: pandas.util.testing is deprecated. Use the functions in the public API at pandas.testing instead.\n",
            "  import pandas.util.testing as tm\n"
          ],
          "name": "stderr"
        }
      ]
    },
    {
      "cell_type": "code",
      "metadata": {
        "id": "ZoltHEJJdGeD",
        "colab_type": "code",
        "colab": {
          "base_uri": "https://localhost:8080/",
          "height": 122
        },
        "outputId": "05092d4e-ab42-4ad8-9af2-835e5b93a34b"
      },
      "source": [
        "from google.colab import drive\n",
        "drive.mount('/content/drive')"
      ],
      "execution_count": 2,
      "outputs": [
        {
          "output_type": "stream",
          "text": [
            "Go to this URL in a browser: https://accounts.google.com/o/oauth2/auth?client_id=947318989803-6bn6qk8qdgf4n4g3pfee6491hc0brc4i.apps.googleusercontent.com&redirect_uri=urn%3aietf%3awg%3aoauth%3a2.0%3aoob&response_type=code&scope=email%20https%3a%2f%2fwww.googleapis.com%2fauth%2fdocs.test%20https%3a%2f%2fwww.googleapis.com%2fauth%2fdrive%20https%3a%2f%2fwww.googleapis.com%2fauth%2fdrive.photos.readonly%20https%3a%2f%2fwww.googleapis.com%2fauth%2fpeopleapi.readonly\n",
            "\n",
            "Enter your authorization code:\n",
            "··········\n",
            "Mounted at /content/drive\n"
          ],
          "name": "stdout"
        }
      ]
    },
    {
      "cell_type": "markdown",
      "metadata": {
        "id": "-JBd5qR8jnlQ",
        "colab_type": "text"
      },
      "source": [
        "# Time series\n",
        "\n",
        "Here, we are gonna to build our initial models, keeping in mind the concept of data stationarity. The workflow that we are going to follow is:\n",
        "\n",
        "1. Consolidate all data into total sales monthly\n",
        "2. Check if data is stationary\n",
        "3. Set look-back period based on autocorrelation and partial autocorrelation\n",
        "4. Built dataframes\n",
        "5. Built the models\n",
        "\n",
        "This notebook are based on the ideas presented at:\n",
        "\n",
        "1. https://towardsdatascience.com/5-machine-learning-techniques-for-sales-forecasting-598e4984b109\n",
        "2. https://www.mariofilho.com/how-to-predict-multiple-time-series-with-scikit-learn-with-sales-forecasting-example/\n",
        "3. https://towardsdatascience.com/predicting-sales-611cb5a252de"
      ]
    },
    {
      "cell_type": "code",
      "metadata": {
        "id": "wGtl0RJijnlR",
        "colab_type": "code",
        "colab": {}
      },
      "source": [
        "# Import data from csv files\n",
        "sales_data = pd.read_csv('/content/drive/My Drive/coursera-kaggle-project/sales_train.zip')\n",
        "shops_data = pd.read_csv('/content/drive/My Drive/coursera-kaggle-project/shops.csv')\n",
        "categories_data = pd.read_csv('/content/drive/My Drive/coursera-kaggle-project/item_categories.csv')\n",
        "items_data = pd.read_csv('/content/drive/My Drive/coursera-kaggle-project/items.csv')"
      ],
      "execution_count": 0,
      "outputs": []
    },
    {
      "cell_type": "code",
      "metadata": {
        "id": "aM05qEJ-jnlU",
        "colab_type": "code",
        "outputId": "95c5a4df-685a-4470-c35e-3fba6eba5c5c",
        "colab": {
          "base_uri": "https://localhost:8080/",
          "height": 204
        }
      },
      "source": [
        "sales_data.head()"
      ],
      "execution_count": 4,
      "outputs": [
        {
          "output_type": "execute_result",
          "data": {
            "text/html": [
              "<div>\n",
              "<style scoped>\n",
              "    .dataframe tbody tr th:only-of-type {\n",
              "        vertical-align: middle;\n",
              "    }\n",
              "\n",
              "    .dataframe tbody tr th {\n",
              "        vertical-align: top;\n",
              "    }\n",
              "\n",
              "    .dataframe thead th {\n",
              "        text-align: right;\n",
              "    }\n",
              "</style>\n",
              "<table border=\"1\" class=\"dataframe\">\n",
              "  <thead>\n",
              "    <tr style=\"text-align: right;\">\n",
              "      <th></th>\n",
              "      <th>date</th>\n",
              "      <th>date_block_num</th>\n",
              "      <th>shop_id</th>\n",
              "      <th>item_id</th>\n",
              "      <th>item_price</th>\n",
              "      <th>item_cnt_day</th>\n",
              "    </tr>\n",
              "  </thead>\n",
              "  <tbody>\n",
              "    <tr>\n",
              "      <th>0</th>\n",
              "      <td>02.01.2013</td>\n",
              "      <td>0</td>\n",
              "      <td>59</td>\n",
              "      <td>22154</td>\n",
              "      <td>999.00</td>\n",
              "      <td>1.0</td>\n",
              "    </tr>\n",
              "    <tr>\n",
              "      <th>1</th>\n",
              "      <td>03.01.2013</td>\n",
              "      <td>0</td>\n",
              "      <td>25</td>\n",
              "      <td>2552</td>\n",
              "      <td>899.00</td>\n",
              "      <td>1.0</td>\n",
              "    </tr>\n",
              "    <tr>\n",
              "      <th>2</th>\n",
              "      <td>05.01.2013</td>\n",
              "      <td>0</td>\n",
              "      <td>25</td>\n",
              "      <td>2552</td>\n",
              "      <td>899.00</td>\n",
              "      <td>-1.0</td>\n",
              "    </tr>\n",
              "    <tr>\n",
              "      <th>3</th>\n",
              "      <td>06.01.2013</td>\n",
              "      <td>0</td>\n",
              "      <td>25</td>\n",
              "      <td>2554</td>\n",
              "      <td>1709.05</td>\n",
              "      <td>1.0</td>\n",
              "    </tr>\n",
              "    <tr>\n",
              "      <th>4</th>\n",
              "      <td>15.01.2013</td>\n",
              "      <td>0</td>\n",
              "      <td>25</td>\n",
              "      <td>2555</td>\n",
              "      <td>1099.00</td>\n",
              "      <td>1.0</td>\n",
              "    </tr>\n",
              "  </tbody>\n",
              "</table>\n",
              "</div>"
            ],
            "text/plain": [
              "         date  date_block_num  shop_id  item_id  item_price  item_cnt_day\n",
              "0  02.01.2013               0       59    22154      999.00           1.0\n",
              "1  03.01.2013               0       25     2552      899.00           1.0\n",
              "2  05.01.2013               0       25     2552      899.00          -1.0\n",
              "3  06.01.2013               0       25     2554     1709.05           1.0\n",
              "4  15.01.2013               0       25     2555     1099.00           1.0"
            ]
          },
          "metadata": {
            "tags": []
          },
          "execution_count": 4
        }
      ]
    },
    {
      "cell_type": "code",
      "metadata": {
        "scrolled": true,
        "id": "T3NHffqtjnlY",
        "colab_type": "code",
        "outputId": "1bfa3237-87b7-4786-aebd-c1424d4fd1f9",
        "colab": {
          "base_uri": "https://localhost:8080/",
          "height": 204
        }
      },
      "source": [
        "# Initially we are going to group data on 'date_block_num' to check if data is stationary or not.\n",
        "data_day = sales_data.copy()\n",
        "data_month = data_day.groupby(['date_block_num'])['item_cnt_day'].sum().reset_index()\n",
        "data_month.head()"
      ],
      "execution_count": 0,
      "outputs": [
        {
          "output_type": "execute_result",
          "data": {
            "text/html": [
              "<div>\n",
              "<style scoped>\n",
              "    .dataframe tbody tr th:only-of-type {\n",
              "        vertical-align: middle;\n",
              "    }\n",
              "\n",
              "    .dataframe tbody tr th {\n",
              "        vertical-align: top;\n",
              "    }\n",
              "\n",
              "    .dataframe thead th {\n",
              "        text-align: right;\n",
              "    }\n",
              "</style>\n",
              "<table border=\"1\" class=\"dataframe\">\n",
              "  <thead>\n",
              "    <tr style=\"text-align: right;\">\n",
              "      <th></th>\n",
              "      <th>date_block_num</th>\n",
              "      <th>item_cnt_day</th>\n",
              "    </tr>\n",
              "  </thead>\n",
              "  <tbody>\n",
              "    <tr>\n",
              "      <th>0</th>\n",
              "      <td>0</td>\n",
              "      <td>131479.0</td>\n",
              "    </tr>\n",
              "    <tr>\n",
              "      <th>1</th>\n",
              "      <td>1</td>\n",
              "      <td>128090.0</td>\n",
              "    </tr>\n",
              "    <tr>\n",
              "      <th>2</th>\n",
              "      <td>2</td>\n",
              "      <td>147142.0</td>\n",
              "    </tr>\n",
              "    <tr>\n",
              "      <th>3</th>\n",
              "      <td>3</td>\n",
              "      <td>107190.0</td>\n",
              "    </tr>\n",
              "    <tr>\n",
              "      <th>4</th>\n",
              "      <td>4</td>\n",
              "      <td>106970.0</td>\n",
              "    </tr>\n",
              "  </tbody>\n",
              "</table>\n",
              "</div>"
            ],
            "text/plain": [
              "   date_block_num  item_cnt_day\n",
              "0               0      131479.0\n",
              "1               1      128090.0\n",
              "2               2      147142.0\n",
              "3               3      107190.0\n",
              "4               4      106970.0"
            ]
          },
          "metadata": {
            "tags": []
          },
          "execution_count": 11
        }
      ]
    },
    {
      "cell_type": "code",
      "metadata": {
        "id": "TNRasfzSjnlc",
        "colab_type": "code",
        "outputId": "e401610b-fbba-4e2c-ac92-89f3e53b3eff",
        "colab": {
          "base_uri": "https://localhost:8080/",
          "height": 204
        }
      },
      "source": [
        "# We need to calculate the mean of sales on a yearly basis, so we add a new column for 'year'\n",
        "\n",
        "def set_year(month):\n",
        "    if month <= 11:\n",
        "        return 0\n",
        "    elif month <= 23:\n",
        "        return 1\n",
        "    else:\n",
        "        return 2\n",
        "    \n",
        "year = [set_year(x) for x in data_month.date_block_num]\n",
        "data_month['year'] = year\n",
        "data_month.head()"
      ],
      "execution_count": 0,
      "outputs": [
        {
          "output_type": "execute_result",
          "data": {
            "text/html": [
              "<div>\n",
              "<style scoped>\n",
              "    .dataframe tbody tr th:only-of-type {\n",
              "        vertical-align: middle;\n",
              "    }\n",
              "\n",
              "    .dataframe tbody tr th {\n",
              "        vertical-align: top;\n",
              "    }\n",
              "\n",
              "    .dataframe thead th {\n",
              "        text-align: right;\n",
              "    }\n",
              "</style>\n",
              "<table border=\"1\" class=\"dataframe\">\n",
              "  <thead>\n",
              "    <tr style=\"text-align: right;\">\n",
              "      <th></th>\n",
              "      <th>date_block_num</th>\n",
              "      <th>item_cnt_day</th>\n",
              "      <th>year</th>\n",
              "    </tr>\n",
              "  </thead>\n",
              "  <tbody>\n",
              "    <tr>\n",
              "      <th>0</th>\n",
              "      <td>0</td>\n",
              "      <td>131479.0</td>\n",
              "      <td>0</td>\n",
              "    </tr>\n",
              "    <tr>\n",
              "      <th>1</th>\n",
              "      <td>1</td>\n",
              "      <td>128090.0</td>\n",
              "      <td>0</td>\n",
              "    </tr>\n",
              "    <tr>\n",
              "      <th>2</th>\n",
              "      <td>2</td>\n",
              "      <td>147142.0</td>\n",
              "      <td>0</td>\n",
              "    </tr>\n",
              "    <tr>\n",
              "      <th>3</th>\n",
              "      <td>3</td>\n",
              "      <td>107190.0</td>\n",
              "      <td>0</td>\n",
              "    </tr>\n",
              "    <tr>\n",
              "      <th>4</th>\n",
              "      <td>4</td>\n",
              "      <td>106970.0</td>\n",
              "      <td>0</td>\n",
              "    </tr>\n",
              "  </tbody>\n",
              "</table>\n",
              "</div>"
            ],
            "text/plain": [
              "   date_block_num  item_cnt_day  year\n",
              "0               0      131479.0     0\n",
              "1               1      128090.0     0\n",
              "2               2      147142.0     0\n",
              "3               3      107190.0     0\n",
              "4               4      106970.0     0"
            ]
          },
          "metadata": {
            "tags": []
          },
          "execution_count": 12
        }
      ]
    },
    {
      "cell_type": "code",
      "metadata": {
        "id": "98b94uR7jnlf",
        "colab_type": "code",
        "outputId": "10d3fb77-6efd-4841-97e1-a10a0f861df3",
        "colab": {
          "base_uri": "https://localhost:8080/",
          "height": 204
        }
      },
      "source": [
        "# We calculate the mean of sales for every year and create a new column 'mean'\n",
        "# Also rename the column 'item_cnt_day'\n",
        "\n",
        "mean_year = data_month.groupby('year')['item_cnt_day'].mean()\n",
        "data_month['mean']= data_month['year'].map(mean_year)\n",
        "data_month.rename({'item_cnt_day':'sales_month'}, axis = 1, inplace =True)\n",
        "data_month.head()"
      ],
      "execution_count": 0,
      "outputs": [
        {
          "output_type": "execute_result",
          "data": {
            "text/html": [
              "<div>\n",
              "<style scoped>\n",
              "    .dataframe tbody tr th:only-of-type {\n",
              "        vertical-align: middle;\n",
              "    }\n",
              "\n",
              "    .dataframe tbody tr th {\n",
              "        vertical-align: top;\n",
              "    }\n",
              "\n",
              "    .dataframe thead th {\n",
              "        text-align: right;\n",
              "    }\n",
              "</style>\n",
              "<table border=\"1\" class=\"dataframe\">\n",
              "  <thead>\n",
              "    <tr style=\"text-align: right;\">\n",
              "      <th></th>\n",
              "      <th>date_block_num</th>\n",
              "      <th>sales_month</th>\n",
              "      <th>year</th>\n",
              "      <th>mean</th>\n",
              "    </tr>\n",
              "  </thead>\n",
              "  <tbody>\n",
              "    <tr>\n",
              "      <th>0</th>\n",
              "      <td>0</td>\n",
              "      <td>131479.0</td>\n",
              "      <td>0</td>\n",
              "      <td>130227.75</td>\n",
              "    </tr>\n",
              "    <tr>\n",
              "      <th>1</th>\n",
              "      <td>1</td>\n",
              "      <td>128090.0</td>\n",
              "      <td>0</td>\n",
              "      <td>130227.75</td>\n",
              "    </tr>\n",
              "    <tr>\n",
              "      <th>2</th>\n",
              "      <td>2</td>\n",
              "      <td>147142.0</td>\n",
              "      <td>0</td>\n",
              "      <td>130227.75</td>\n",
              "    </tr>\n",
              "    <tr>\n",
              "      <th>3</th>\n",
              "      <td>3</td>\n",
              "      <td>107190.0</td>\n",
              "      <td>0</td>\n",
              "      <td>130227.75</td>\n",
              "    </tr>\n",
              "    <tr>\n",
              "      <th>4</th>\n",
              "      <td>4</td>\n",
              "      <td>106970.0</td>\n",
              "      <td>0</td>\n",
              "      <td>130227.75</td>\n",
              "    </tr>\n",
              "  </tbody>\n",
              "</table>\n",
              "</div>"
            ],
            "text/plain": [
              "   date_block_num  sales_month  year       mean\n",
              "0               0     131479.0     0  130227.75\n",
              "1               1     128090.0     0  130227.75\n",
              "2               2     147142.0     0  130227.75\n",
              "3               3     107190.0     0  130227.75\n",
              "4               4     106970.0     0  130227.75"
            ]
          },
          "metadata": {
            "tags": []
          },
          "execution_count": 13
        }
      ]
    },
    {
      "cell_type": "code",
      "metadata": {
        "id": "Lq0p1vB7jnlk",
        "colab_type": "code",
        "outputId": "4668b4ff-0670-497f-842c-b77c5626b793",
        "colab": {
          "base_uri": "https://localhost:8080/",
          "height": 333
        }
      },
      "source": [
        "# We plot sales by month and mean by year\n",
        "\n",
        "fig, ax = plt.subplots(figsize=(15,5))\n",
        "sns.lineplot('date_block_num', 'sales_month', data=data_month, label='Total Sales')\n",
        "sns.lineplot('date_block_num', 'mean', data=data_month, color='red', label='Mean Sales')      "
      ],
      "execution_count": 0,
      "outputs": [
        {
          "output_type": "execute_result",
          "data": {
            "text/plain": [
              "<matplotlib.axes._subplots.AxesSubplot at 0x7fe9bfb56be0>"
            ]
          },
          "metadata": {
            "tags": []
          },
          "execution_count": 14
        },
        {
          "output_type": "display_data",
          "data": {
            "image/png": "[encoded data removed]",
            "text/plain": [
              "<Figure size 1080x360 with 1 Axes>"
            ]
          },
          "metadata": {
            "tags": [],
            "needs_background": "light"
          }
        }
      ]
    },
    {
      "cell_type": "code",
      "metadata": {
        "id": "YKO1OLpfjnlp",
        "colab_type": "code",
        "colab": {}
      },
      "source": [
        "def get_diff(data):\n",
        "    data['sales_diff'] = data.sales_month.diff()\n",
        "    data=data.dropna()\n",
        "    return data\n",
        "\n",
        "stationary_df = get_diff(data_month)"
      ],
      "execution_count": 0,
      "outputs": []
    },
    {
      "cell_type": "code",
      "metadata": {
        "id": "AtGVD9bYjnls",
        "colab_type": "code",
        "outputId": "3b483661-f007-4685-d8a4-a920122a32ca",
        "colab": {
          "base_uri": "https://localhost:8080/",
          "height": 455
        }
      },
      "source": [
        "mean_year = stationary_df.groupby('year')['sales_diff'].mean()\n",
        "stationary_df['mean']= stationary_df['year'].map(mean_year)\n",
        "fig, ax = plt.subplots(figsize=(15,5))\n",
        "sns.lineplot('date_block_num', 'sales_diff', data=stationary_df, label='Total Sales')\n",
        "sns.lineplot('date_block_num', 'mean', data=stationary_df, color='red', label='Mean Sales')  "
      ],
      "execution_count": 0,
      "outputs": [
        {
          "output_type": "stream",
          "text": [
            "/usr/local/lib/python3.6/dist-packages/ipykernel_launcher.py:2: SettingWithCopyWarning: \n",
            "A value is trying to be set on a copy of a slice from a DataFrame.\n",
            "Try using .loc[row_indexer,col_indexer] = value instead\n",
            "\n",
            "See the caveats in the documentation: https://pandas.pydata.org/pandas-docs/stable/user_guide/indexing.html#returning-a-view-versus-a-copy\n",
            "  \n"
          ],
          "name": "stderr"
        },
        {
          "output_type": "execute_result",
          "data": {
            "text/plain": [
              "<matplotlib.axes._subplots.AxesSubplot at 0x7fe9bfbfb470>"
            ]
          },
          "metadata": {
            "tags": []
          },
          "execution_count": 16
        },
        {
          "output_type": "display_data",
          "data": {
            "image/png": "[encoded data removed]",
            "text/plain": [
              "<Figure size 1080x360 with 1 Axes>"
            ]
          },
          "metadata": {
            "tags": [],
            "needs_background": "light"
          }
        }
      ]
    },
    {
      "cell_type": "markdown",
      "metadata": {
        "id": "PMP60PR1jnlw",
        "colab_type": "text"
      },
      "source": [
        "So far we know the data is not stationary and we need to aply a diff transformation in order to remove the trends observed in the data. But the diff transformation, should be applied in different way from that apllied before, cause we can't sum up all items in single month"
      ]
    },
    {
      "cell_type": "code",
      "metadata": {
        "id": "leBWfbxZjnlw",
        "colab_type": "code",
        "outputId": "d51b7aa9-f6f8-4438-88f0-26be1445a842",
        "colab": {
          "base_uri": "https://localhost:8080/",
          "height": 221
        }
      },
      "source": [
        "# We organize a new data frame according to the project requirements\n",
        "\n",
        "data = sales_data.groupby(['item_id', 'shop_id', 'date_block_num']).sum().reset_index()\n",
        "data.drop('item_price', axis = 1, inplace = True)\n",
        "data = data.sort_values(['date_block_num','shop_id','item_id'])\n",
        "data.rename({'item_cnt_day':'sales_month'}, axis= 1 , inplace = True)\n",
        "print(data.shape)\n",
        "data.head()"
      ],
      "execution_count": 0,
      "outputs": [
        {
          "output_type": "stream",
          "text": [
            "(1609124, 4)\n"
          ],
          "name": "stdout"
        },
        {
          "output_type": "execute_result",
          "data": {
            "text/html": [
              "<div>\n",
              "<style scoped>\n",
              "    .dataframe tbody tr th:only-of-type {\n",
              "        vertical-align: middle;\n",
              "    }\n",
              "\n",
              "    .dataframe tbody tr th {\n",
              "        vertical-align: top;\n",
              "    }\n",
              "\n",
              "    .dataframe thead th {\n",
              "        text-align: right;\n",
              "    }\n",
              "</style>\n",
              "<table border=\"1\" class=\"dataframe\">\n",
              "  <thead>\n",
              "    <tr style=\"text-align: right;\">\n",
              "      <th></th>\n",
              "      <th>item_id</th>\n",
              "      <th>shop_id</th>\n",
              "      <th>date_block_num</th>\n",
              "      <th>sales_month</th>\n",
              "    </tr>\n",
              "  </thead>\n",
              "  <tbody>\n",
              "    <tr>\n",
              "      <th>1148</th>\n",
              "      <td>32</td>\n",
              "      <td>0</td>\n",
              "      <td>0</td>\n",
              "      <td>6.0</td>\n",
              "    </tr>\n",
              "    <tr>\n",
              "      <th>1933</th>\n",
              "      <td>33</td>\n",
              "      <td>0</td>\n",
              "      <td>0</td>\n",
              "      <td>3.0</td>\n",
              "    </tr>\n",
              "    <tr>\n",
              "      <th>2600</th>\n",
              "      <td>35</td>\n",
              "      <td>0</td>\n",
              "      <td>0</td>\n",
              "      <td>1.0</td>\n",
              "    </tr>\n",
              "    <tr>\n",
              "      <th>3143</th>\n",
              "      <td>43</td>\n",
              "      <td>0</td>\n",
              "      <td>0</td>\n",
              "      <td>1.0</td>\n",
              "    </tr>\n",
              "    <tr>\n",
              "      <th>3665</th>\n",
              "      <td>51</td>\n",
              "      <td>0</td>\n",
              "      <td>0</td>\n",
              "      <td>2.0</td>\n",
              "    </tr>\n",
              "  </tbody>\n",
              "</table>\n",
              "</div>"
            ],
            "text/plain": [
              "      item_id  shop_id  date_block_num  sales_month\n",
              "1148       32        0               0          6.0\n",
              "1933       33        0               0          3.0\n",
              "2600       35        0               0          1.0\n",
              "3143       43        0               0          1.0\n",
              "3665       51        0               0          2.0"
            ]
          },
          "metadata": {
            "tags": []
          },
          "execution_count": 17
        }
      ]
    },
    {
      "cell_type": "code",
      "metadata": {
        "id": "BAhiohYZjnlz",
        "colab_type": "code",
        "colab": {}
      },
      "source": [
        "data['last_month_sales'] = data.groupby(['item_id', 'shop_id'])['sales_month'].shift()"
      ],
      "execution_count": 0,
      "outputs": []
    },
    {
      "cell_type": "code",
      "metadata": {
        "id": "Fg2tdcU0jnl2",
        "colab_type": "code",
        "colab": {}
      },
      "source": [
        "data['last_month_diff'] = data.groupby(['item_id', 'shop_id'])['last_month_sales'].diff()"
      ],
      "execution_count": 0,
      "outputs": []
    },
    {
      "cell_type": "code",
      "metadata": {
        "id": "Sio0_hyHjnl5",
        "colab_type": "code",
        "colab": {}
      },
      "source": [
        "data = data.dropna()"
      ],
      "execution_count": 0,
      "outputs": []
    },
    {
      "cell_type": "code",
      "metadata": {
        "id": "3RwJWkH4jnl7",
        "colab_type": "code",
        "outputId": "a6485667-9417-4261-9a99-da641b90506b",
        "colab": {
          "base_uri": "https://localhost:8080/",
          "height": 204
        }
      },
      "source": [
        "data.head()"
      ],
      "execution_count": 0,
      "outputs": [
        {
          "output_type": "execute_result",
          "data": {
            "text/html": [
              "<div>\n",
              "<style scoped>\n",
              "    .dataframe tbody tr th:only-of-type {\n",
              "        vertical-align: middle;\n",
              "    }\n",
              "\n",
              "    .dataframe tbody tr th {\n",
              "        vertical-align: top;\n",
              "    }\n",
              "\n",
              "    .dataframe thead th {\n",
              "        text-align: right;\n",
              "    }\n",
              "</style>\n",
              "<table border=\"1\" class=\"dataframe\">\n",
              "  <thead>\n",
              "    <tr style=\"text-align: right;\">\n",
              "      <th></th>\n",
              "      <th>item_id</th>\n",
              "      <th>shop_id</th>\n",
              "      <th>date_block_num</th>\n",
              "      <th>sales_month</th>\n",
              "      <th>last_month_sales</th>\n",
              "      <th>last_month_diff</th>\n",
              "    </tr>\n",
              "  </thead>\n",
              "  <tbody>\n",
              "    <tr>\n",
              "      <th>12679</th>\n",
              "      <td>482</td>\n",
              "      <td>2</td>\n",
              "      <td>2</td>\n",
              "      <td>1.0</td>\n",
              "      <td>1.0</td>\n",
              "      <td>0.0</td>\n",
              "    </tr>\n",
              "    <tr>\n",
              "      <th>13533</th>\n",
              "      <td>484</td>\n",
              "      <td>2</td>\n",
              "      <td>2</td>\n",
              "      <td>2.0</td>\n",
              "      <td>4.0</td>\n",
              "      <td>2.0</td>\n",
              "    </tr>\n",
              "    <tr>\n",
              "      <th>19294</th>\n",
              "      <td>785</td>\n",
              "      <td>2</td>\n",
              "      <td>2</td>\n",
              "      <td>4.0</td>\n",
              "      <td>1.0</td>\n",
              "      <td>0.0</td>\n",
              "    </tr>\n",
              "    <tr>\n",
              "      <th>19931</th>\n",
              "      <td>791</td>\n",
              "      <td>2</td>\n",
              "      <td>2</td>\n",
              "      <td>2.0</td>\n",
              "      <td>1.0</td>\n",
              "      <td>-1.0</td>\n",
              "    </tr>\n",
              "    <tr>\n",
              "      <th>33636</th>\n",
              "      <td>1007</td>\n",
              "      <td>2</td>\n",
              "      <td>2</td>\n",
              "      <td>2.0</td>\n",
              "      <td>1.0</td>\n",
              "      <td>-2.0</td>\n",
              "    </tr>\n",
              "  </tbody>\n",
              "</table>\n",
              "</div>"
            ],
            "text/plain": [
              "       item_id  shop_id  ...  last_month_sales  last_month_diff\n",
              "12679      482        2  ...               1.0              0.0\n",
              "13533      484        2  ...               4.0              2.0\n",
              "19294      785        2  ...               1.0              0.0\n",
              "19931      791        2  ...               1.0             -1.0\n",
              "33636     1007        2  ...               1.0             -2.0\n",
              "\n",
              "[5 rows x 6 columns]"
            ]
          },
          "metadata": {
            "tags": []
          },
          "execution_count": 21
        }
      ]
    },
    {
      "cell_type": "code",
      "metadata": {
        "scrolled": false,
        "id": "EPrUfbnSjnl-",
        "colab_type": "code",
        "outputId": "131d3fca-a1de-4a97-dd8a-413bf529d2dd",
        "colab": {
          "base_uri": "https://localhost:8080/",
          "height": 1000
        }
      },
      "source": [
        "data[(data['item_id'] == 5822)&(data['shop_id'] == 21)]"
      ],
      "execution_count": 0,
      "outputs": [
        {
          "output_type": "execute_result",
          "data": {
            "text/html": [
              "<div>\n",
              "<style scoped>\n",
              "    .dataframe tbody tr th:only-of-type {\n",
              "        vertical-align: middle;\n",
              "    }\n",
              "\n",
              "    .dataframe tbody tr th {\n",
              "        vertical-align: top;\n",
              "    }\n",
              "\n",
              "    .dataframe thead th {\n",
              "        text-align: right;\n",
              "    }\n",
              "</style>\n",
              "<table border=\"1\" class=\"dataframe\">\n",
              "  <thead>\n",
              "    <tr style=\"text-align: right;\">\n",
              "      <th></th>\n",
              "      <th>item_id</th>\n",
              "      <th>shop_id</th>\n",
              "      <th>date_block_num</th>\n",
              "      <th>sales_month</th>\n",
              "      <th>last_month_sales</th>\n",
              "      <th>last_month_diff</th>\n",
              "    </tr>\n",
              "  </thead>\n",
              "  <tbody>\n",
              "    <tr>\n",
              "      <th>468680</th>\n",
              "      <td>5822</td>\n",
              "      <td>21</td>\n",
              "      <td>3</td>\n",
              "      <td>2.0</td>\n",
              "      <td>7.0</td>\n",
              "      <td>5.0</td>\n",
              "    </tr>\n",
              "    <tr>\n",
              "      <th>468681</th>\n",
              "      <td>5822</td>\n",
              "      <td>21</td>\n",
              "      <td>4</td>\n",
              "      <td>6.0</td>\n",
              "      <td>2.0</td>\n",
              "      <td>-5.0</td>\n",
              "    </tr>\n",
              "    <tr>\n",
              "      <th>468682</th>\n",
              "      <td>5822</td>\n",
              "      <td>21</td>\n",
              "      <td>5</td>\n",
              "      <td>3.0</td>\n",
              "      <td>6.0</td>\n",
              "      <td>4.0</td>\n",
              "    </tr>\n",
              "    <tr>\n",
              "      <th>468683</th>\n",
              "      <td>5822</td>\n",
              "      <td>21</td>\n",
              "      <td>6</td>\n",
              "      <td>3.0</td>\n",
              "      <td>3.0</td>\n",
              "      <td>-3.0</td>\n",
              "    </tr>\n",
              "    <tr>\n",
              "      <th>468684</th>\n",
              "      <td>5822</td>\n",
              "      <td>21</td>\n",
              "      <td>7</td>\n",
              "      <td>5.0</td>\n",
              "      <td>3.0</td>\n",
              "      <td>0.0</td>\n",
              "    </tr>\n",
              "    <tr>\n",
              "      <th>468685</th>\n",
              "      <td>5822</td>\n",
              "      <td>21</td>\n",
              "      <td>8</td>\n",
              "      <td>3.0</td>\n",
              "      <td>5.0</td>\n",
              "      <td>2.0</td>\n",
              "    </tr>\n",
              "    <tr>\n",
              "      <th>468686</th>\n",
              "      <td>5822</td>\n",
              "      <td>21</td>\n",
              "      <td>9</td>\n",
              "      <td>6.0</td>\n",
              "      <td>3.0</td>\n",
              "      <td>-2.0</td>\n",
              "    </tr>\n",
              "    <tr>\n",
              "      <th>468687</th>\n",
              "      <td>5822</td>\n",
              "      <td>21</td>\n",
              "      <td>10</td>\n",
              "      <td>5.0</td>\n",
              "      <td>6.0</td>\n",
              "      <td>3.0</td>\n",
              "    </tr>\n",
              "    <tr>\n",
              "      <th>468688</th>\n",
              "      <td>5822</td>\n",
              "      <td>21</td>\n",
              "      <td>11</td>\n",
              "      <td>7.0</td>\n",
              "      <td>5.0</td>\n",
              "      <td>-1.0</td>\n",
              "    </tr>\n",
              "    <tr>\n",
              "      <th>468689</th>\n",
              "      <td>5822</td>\n",
              "      <td>21</td>\n",
              "      <td>12</td>\n",
              "      <td>11.0</td>\n",
              "      <td>7.0</td>\n",
              "      <td>2.0</td>\n",
              "    </tr>\n",
              "    <tr>\n",
              "      <th>468690</th>\n",
              "      <td>5822</td>\n",
              "      <td>21</td>\n",
              "      <td>13</td>\n",
              "      <td>7.0</td>\n",
              "      <td>11.0</td>\n",
              "      <td>4.0</td>\n",
              "    </tr>\n",
              "    <tr>\n",
              "      <th>468691</th>\n",
              "      <td>5822</td>\n",
              "      <td>21</td>\n",
              "      <td>14</td>\n",
              "      <td>8.0</td>\n",
              "      <td>7.0</td>\n",
              "      <td>-4.0</td>\n",
              "    </tr>\n",
              "    <tr>\n",
              "      <th>468692</th>\n",
              "      <td>5822</td>\n",
              "      <td>21</td>\n",
              "      <td>15</td>\n",
              "      <td>12.0</td>\n",
              "      <td>8.0</td>\n",
              "      <td>1.0</td>\n",
              "    </tr>\n",
              "    <tr>\n",
              "      <th>468693</th>\n",
              "      <td>5822</td>\n",
              "      <td>21</td>\n",
              "      <td>16</td>\n",
              "      <td>7.0</td>\n",
              "      <td>12.0</td>\n",
              "      <td>4.0</td>\n",
              "    </tr>\n",
              "    <tr>\n",
              "      <th>468694</th>\n",
              "      <td>5822</td>\n",
              "      <td>21</td>\n",
              "      <td>17</td>\n",
              "      <td>18.0</td>\n",
              "      <td>7.0</td>\n",
              "      <td>-5.0</td>\n",
              "    </tr>\n",
              "    <tr>\n",
              "      <th>468695</th>\n",
              "      <td>5822</td>\n",
              "      <td>21</td>\n",
              "      <td>18</td>\n",
              "      <td>8.0</td>\n",
              "      <td>18.0</td>\n",
              "      <td>11.0</td>\n",
              "    </tr>\n",
              "    <tr>\n",
              "      <th>468696</th>\n",
              "      <td>5822</td>\n",
              "      <td>21</td>\n",
              "      <td>19</td>\n",
              "      <td>8.0</td>\n",
              "      <td>8.0</td>\n",
              "      <td>-10.0</td>\n",
              "    </tr>\n",
              "    <tr>\n",
              "      <th>468697</th>\n",
              "      <td>5822</td>\n",
              "      <td>21</td>\n",
              "      <td>20</td>\n",
              "      <td>24.0</td>\n",
              "      <td>8.0</td>\n",
              "      <td>0.0</td>\n",
              "    </tr>\n",
              "    <tr>\n",
              "      <th>468698</th>\n",
              "      <td>5822</td>\n",
              "      <td>21</td>\n",
              "      <td>21</td>\n",
              "      <td>14.0</td>\n",
              "      <td>24.0</td>\n",
              "      <td>16.0</td>\n",
              "    </tr>\n",
              "    <tr>\n",
              "      <th>468699</th>\n",
              "      <td>5822</td>\n",
              "      <td>21</td>\n",
              "      <td>22</td>\n",
              "      <td>13.0</td>\n",
              "      <td>14.0</td>\n",
              "      <td>-10.0</td>\n",
              "    </tr>\n",
              "    <tr>\n",
              "      <th>468700</th>\n",
              "      <td>5822</td>\n",
              "      <td>21</td>\n",
              "      <td>23</td>\n",
              "      <td>20.0</td>\n",
              "      <td>13.0</td>\n",
              "      <td>-1.0</td>\n",
              "    </tr>\n",
              "    <tr>\n",
              "      <th>468701</th>\n",
              "      <td>5822</td>\n",
              "      <td>21</td>\n",
              "      <td>24</td>\n",
              "      <td>14.0</td>\n",
              "      <td>20.0</td>\n",
              "      <td>7.0</td>\n",
              "    </tr>\n",
              "    <tr>\n",
              "      <th>468702</th>\n",
              "      <td>5822</td>\n",
              "      <td>21</td>\n",
              "      <td>25</td>\n",
              "      <td>6.0</td>\n",
              "      <td>14.0</td>\n",
              "      <td>-6.0</td>\n",
              "    </tr>\n",
              "    <tr>\n",
              "      <th>468703</th>\n",
              "      <td>5822</td>\n",
              "      <td>21</td>\n",
              "      <td>26</td>\n",
              "      <td>7.0</td>\n",
              "      <td>6.0</td>\n",
              "      <td>-8.0</td>\n",
              "    </tr>\n",
              "    <tr>\n",
              "      <th>468704</th>\n",
              "      <td>5822</td>\n",
              "      <td>21</td>\n",
              "      <td>27</td>\n",
              "      <td>5.0</td>\n",
              "      <td>7.0</td>\n",
              "      <td>1.0</td>\n",
              "    </tr>\n",
              "    <tr>\n",
              "      <th>468705</th>\n",
              "      <td>5822</td>\n",
              "      <td>21</td>\n",
              "      <td>28</td>\n",
              "      <td>2.0</td>\n",
              "      <td>5.0</td>\n",
              "      <td>-2.0</td>\n",
              "    </tr>\n",
              "    <tr>\n",
              "      <th>468706</th>\n",
              "      <td>5822</td>\n",
              "      <td>21</td>\n",
              "      <td>29</td>\n",
              "      <td>5.0</td>\n",
              "      <td>2.0</td>\n",
              "      <td>-3.0</td>\n",
              "    </tr>\n",
              "    <tr>\n",
              "      <th>468707</th>\n",
              "      <td>5822</td>\n",
              "      <td>21</td>\n",
              "      <td>30</td>\n",
              "      <td>5.0</td>\n",
              "      <td>5.0</td>\n",
              "      <td>3.0</td>\n",
              "    </tr>\n",
              "    <tr>\n",
              "      <th>468708</th>\n",
              "      <td>5822</td>\n",
              "      <td>21</td>\n",
              "      <td>31</td>\n",
              "      <td>1.0</td>\n",
              "      <td>5.0</td>\n",
              "      <td>0.0</td>\n",
              "    </tr>\n",
              "    <tr>\n",
              "      <th>468709</th>\n",
              "      <td>5822</td>\n",
              "      <td>21</td>\n",
              "      <td>32</td>\n",
              "      <td>2.0</td>\n",
              "      <td>1.0</td>\n",
              "      <td>-4.0</td>\n",
              "    </tr>\n",
              "    <tr>\n",
              "      <th>468710</th>\n",
              "      <td>5822</td>\n",
              "      <td>21</td>\n",
              "      <td>33</td>\n",
              "      <td>6.0</td>\n",
              "      <td>2.0</td>\n",
              "      <td>1.0</td>\n",
              "    </tr>\n",
              "  </tbody>\n",
              "</table>\n",
              "</div>"
            ],
            "text/plain": [
              "        item_id  shop_id  ...  last_month_sales  last_month_diff\n",
              "468680     5822       21  ...               7.0              5.0\n",
              "468681     5822       21  ...               2.0             -5.0\n",
              "468682     5822       21  ...               6.0              4.0\n",
              "468683     5822       21  ...               3.0             -3.0\n",
              "468684     5822       21  ...               3.0              0.0\n",
              "468685     5822       21  ...               5.0              2.0\n",
              "468686     5822       21  ...               3.0             -2.0\n",
              "468687     5822       21  ...               6.0              3.0\n",
              "468688     5822       21  ...               5.0             -1.0\n",
              "468689     5822       21  ...               7.0              2.0\n",
              "468690     5822       21  ...              11.0              4.0\n",
              "468691     5822       21  ...               7.0             -4.0\n",
              "468692     5822       21  ...               8.0              1.0\n",
              "468693     5822       21  ...              12.0              4.0\n",
              "468694     5822       21  ...               7.0             -5.0\n",
              "468695     5822       21  ...              18.0             11.0\n",
              "468696     5822       21  ...               8.0            -10.0\n",
              "468697     5822       21  ...               8.0              0.0\n",
              "468698     5822       21  ...              24.0             16.0\n",
              "468699     5822       21  ...              14.0            -10.0\n",
              "468700     5822       21  ...              13.0             -1.0\n",
              "468701     5822       21  ...              20.0              7.0\n",
              "468702     5822       21  ...              14.0             -6.0\n",
              "468703     5822       21  ...               6.0             -8.0\n",
              "468704     5822       21  ...               7.0              1.0\n",
              "468705     5822       21  ...               5.0             -2.0\n",
              "468706     5822       21  ...               2.0             -3.0\n",
              "468707     5822       21  ...               5.0              3.0\n",
              "468708     5822       21  ...               5.0              0.0\n",
              "468709     5822       21  ...               1.0             -4.0\n",
              "468710     5822       21  ...               2.0              1.0\n",
              "\n",
              "[31 rows x 6 columns]"
            ]
          },
          "metadata": {
            "tags": []
          },
          "execution_count": 22
        }
      ]
    },
    {
      "cell_type": "code",
      "metadata": {
        "id": "kj2d7x6_jnmB",
        "colab_type": "code",
        "outputId": "1a2dbfee-e391-4839-ed14-0a743bdbab35",
        "colab": {
          "base_uri": "https://localhost:8080/",
          "height": 51
        }
      },
      "source": [
        "# Now, we split data en train and test\n",
        "# Last 8 months will be our test set, the rest data will be used to train our model. \n",
        "# That give us a 80/20 proportion\n",
        "\n",
        "val_set = data[data['date_block_num'] > 25]\n",
        "train_set = data[data['date_block_num'] <= 25]\n",
        "print(len(val_set)/len(data))\n",
        "print(len(train_set)/len(data))"
      ],
      "execution_count": 0,
      "outputs": [
        {
          "output_type": "stream",
          "text": [
            "0.2077394444340374\n",
            "0.7922605555659625\n"
          ],
          "name": "stdout"
        }
      ]
    },
    {
      "cell_type": "code",
      "metadata": {
        "scrolled": false,
        "id": "ZZ6V1lGqjnmD",
        "colab_type": "code",
        "colab": {}
      },
      "source": [
        "xtr, xts = train_set.drop(['sales_month'], axis = 1), val_set.drop(['sales_month'], axis = 1)\n",
        "ytr, yts = train_set['sales_month'].values, val_set['sales_month'].values"
      ],
      "execution_count": 0,
      "outputs": []
    },
    {
      "cell_type": "code",
      "metadata": {
        "id": "cOtGrUjnjnmH",
        "colab_type": "code",
        "outputId": "48c8e49c-1b0c-46d8-ed4e-d88ae2c346f5",
        "colab": {
          "base_uri": "https://localhost:8080/",
          "height": 136
        }
      },
      "source": [
        "# Create regression object\n",
        "rf = RandomForestRegressor(n_estimators = 100, random_state=0)\n",
        "\n",
        "# Train the model on training data\n",
        "rf.fit(xtr, ytr)"
      ],
      "execution_count": 0,
      "outputs": [
        {
          "output_type": "execute_result",
          "data": {
            "text/plain": [
              "RandomForestRegressor(bootstrap=True, ccp_alpha=0.0, criterion='mse',\n",
              "                      max_depth=None, max_features='auto', max_leaf_nodes=None,\n",
              "                      max_samples=None, min_impurity_decrease=0.0,\n",
              "                      min_impurity_split=None, min_samples_leaf=1,\n",
              "                      min_samples_split=2, min_weight_fraction_leaf=0.0,\n",
              "                      n_estimators=100, n_jobs=None, oob_score=False,\n",
              "                      random_state=0, verbose=0, warm_start=False)"
            ]
          },
          "metadata": {
            "tags": []
          },
          "execution_count": 25
        }
      ]
    },
    {
      "cell_type": "code",
      "metadata": {
        "scrolled": true,
        "id": "V6aMf9Y6jnmK",
        "colab_type": "code",
        "colab": {}
      },
      "source": [
        "p = rf.predict(xts)"
      ],
      "execution_count": 0,
      "outputs": []
    },
    {
      "cell_type": "code",
      "metadata": {
        "id": "b_hcoJTLjnmM",
        "colab_type": "code",
        "outputId": "c933c18f-7b30-47d2-b523-ae26cc35b4a9",
        "colab": {
          "base_uri": "https://localhost:8080/",
          "height": 34
        }
      },
      "source": [
        "rmse = np.sqrt(mean_squared_error(yts, p))\n",
        "rmse"
      ],
      "execution_count": 0,
      "outputs": [
        {
          "output_type": "execute_result",
          "data": {
            "text/plain": [
              "9.220996577743234"
            ]
          },
          "metadata": {
            "tags": []
          },
          "execution_count": 27
        }
      ]
    },
    {
      "cell_type": "code",
      "metadata": {
        "id": "LkK3nuzmjnmP",
        "colab_type": "code",
        "colab": {}
      },
      "source": [
        "df = pd.DataFrame (columns = ['Real','Predicted'])\n",
        "df['Real'] = yts\n",
        "df['Predicted'] = p"
      ],
      "execution_count": 0,
      "outputs": []
    },
    {
      "cell_type": "code",
      "metadata": {
        "scrolled": true,
        "id": "pWUkg0cSjnmT",
        "colab_type": "code",
        "outputId": "3d0f37ce-296c-43b1-8301-30890e4c8520",
        "colab": {
          "base_uri": "https://localhost:8080/",
          "height": 297
        }
      },
      "source": [
        "df.describe()"
      ],
      "execution_count": 0,
      "outputs": [
        {
          "output_type": "execute_result",
          "data": {
            "text/html": [
              "<div>\n",
              "<style scoped>\n",
              "    .dataframe tbody tr th:only-of-type {\n",
              "        vertical-align: middle;\n",
              "    }\n",
              "\n",
              "    .dataframe tbody tr th {\n",
              "        vertical-align: top;\n",
              "    }\n",
              "\n",
              "    .dataframe thead th {\n",
              "        text-align: right;\n",
              "    }\n",
              "</style>\n",
              "<table border=\"1\" class=\"dataframe\">\n",
              "  <thead>\n",
              "    <tr style=\"text-align: right;\">\n",
              "      <th></th>\n",
              "      <th>Real</th>\n",
              "      <th>Predicted</th>\n",
              "    </tr>\n",
              "  </thead>\n",
              "  <tbody>\n",
              "    <tr>\n",
              "      <th>count</th>\n",
              "      <td>188525.000000</td>\n",
              "      <td>188525.000000</td>\n",
              "    </tr>\n",
              "    <tr>\n",
              "      <th>mean</th>\n",
              "      <td>2.051441</td>\n",
              "      <td>2.028251</td>\n",
              "    </tr>\n",
              "    <tr>\n",
              "      <th>std</th>\n",
              "      <td>11.005639</td>\n",
              "      <td>5.643854</td>\n",
              "    </tr>\n",
              "    <tr>\n",
              "      <th>min</th>\n",
              "      <td>-2.000000</td>\n",
              "      <td>-0.340000</td>\n",
              "    </tr>\n",
              "    <tr>\n",
              "      <th>25%</th>\n",
              "      <td>1.000000</td>\n",
              "      <td>1.120000</td>\n",
              "    </tr>\n",
              "    <tr>\n",
              "      <th>50%</th>\n",
              "      <td>1.000000</td>\n",
              "      <td>1.410000</td>\n",
              "    </tr>\n",
              "    <tr>\n",
              "      <th>75%</th>\n",
              "      <td>2.000000</td>\n",
              "      <td>1.930000</td>\n",
              "    </tr>\n",
              "    <tr>\n",
              "      <th>max</th>\n",
              "      <td>2253.000000</td>\n",
              "      <td>460.880000</td>\n",
              "    </tr>\n",
              "  </tbody>\n",
              "</table>\n",
              "</div>"
            ],
            "text/plain": [
              "                Real      Predicted\n",
              "count  188525.000000  188525.000000\n",
              "mean        2.051441       2.028251\n",
              "std        11.005639       5.643854\n",
              "min        -2.000000      -0.340000\n",
              "25%         1.000000       1.120000\n",
              "50%         1.000000       1.410000\n",
              "75%         2.000000       1.930000\n",
              "max      2253.000000     460.880000"
            ]
          },
          "metadata": {
            "tags": []
          },
          "execution_count": 29
        }
      ]
    },
    {
      "cell_type": "code",
      "metadata": {
        "id": "8PMzOGrijnmV",
        "colab_type": "code",
        "outputId": "96f41abb-43ec-4986-c2d1-0cf2c26a2373",
        "colab": {
          "base_uri": "https://localhost:8080/",
          "height": 221
        }
      },
      "source": [
        "# We organize a new data frame according to the project requirements with clip function\n",
        "\n",
        "data_cl = sales_data.groupby(['item_id', 'shop_id', 'date_block_num']).sum().reset_index()\n",
        "data_cl.drop('item_price', axis = 1, inplace = True)\n",
        "data_cl = data_cl.sort_values(['date_block_num','shop_id','item_id'])\n",
        "data_cl.rename({'item_cnt_day':'sales_month'}, axis= 1 , inplace = True)\n",
        "print(data_cl.shape)\n",
        "data_cl.sales_month = data_cl.sales_month.clip(0,20)\n",
        "data_cl.head()"
      ],
      "execution_count": 0,
      "outputs": [
        {
          "output_type": "stream",
          "text": [
            "(1609124, 4)\n"
          ],
          "name": "stdout"
        },
        {
          "output_type": "execute_result",
          "data": {
            "text/html": [
              "<div>\n",
              "<style scoped>\n",
              "    .dataframe tbody tr th:only-of-type {\n",
              "        vertical-align: middle;\n",
              "    }\n",
              "\n",
              "    .dataframe tbody tr th {\n",
              "        vertical-align: top;\n",
              "    }\n",
              "\n",
              "    .dataframe thead th {\n",
              "        text-align: right;\n",
              "    }\n",
              "</style>\n",
              "<table border=\"1\" class=\"dataframe\">\n",
              "  <thead>\n",
              "    <tr style=\"text-align: right;\">\n",
              "      <th></th>\n",
              "      <th>item_id</th>\n",
              "      <th>shop_id</th>\n",
              "      <th>date_block_num</th>\n",
              "      <th>sales_month</th>\n",
              "    </tr>\n",
              "  </thead>\n",
              "  <tbody>\n",
              "    <tr>\n",
              "      <th>1148</th>\n",
              "      <td>32</td>\n",
              "      <td>0</td>\n",
              "      <td>0</td>\n",
              "      <td>6.0</td>\n",
              "    </tr>\n",
              "    <tr>\n",
              "      <th>1933</th>\n",
              "      <td>33</td>\n",
              "      <td>0</td>\n",
              "      <td>0</td>\n",
              "      <td>3.0</td>\n",
              "    </tr>\n",
              "    <tr>\n",
              "      <th>2600</th>\n",
              "      <td>35</td>\n",
              "      <td>0</td>\n",
              "      <td>0</td>\n",
              "      <td>1.0</td>\n",
              "    </tr>\n",
              "    <tr>\n",
              "      <th>3143</th>\n",
              "      <td>43</td>\n",
              "      <td>0</td>\n",
              "      <td>0</td>\n",
              "      <td>1.0</td>\n",
              "    </tr>\n",
              "    <tr>\n",
              "      <th>3665</th>\n",
              "      <td>51</td>\n",
              "      <td>0</td>\n",
              "      <td>0</td>\n",
              "      <td>2.0</td>\n",
              "    </tr>\n",
              "  </tbody>\n",
              "</table>\n",
              "</div>"
            ],
            "text/plain": [
              "      item_id  shop_id  date_block_num  sales_month\n",
              "1148       32        0               0          6.0\n",
              "1933       33        0               0          3.0\n",
              "2600       35        0               0          1.0\n",
              "3143       43        0               0          1.0\n",
              "3665       51        0               0          2.0"
            ]
          },
          "metadata": {
            "tags": []
          },
          "execution_count": 31
        }
      ]
    },
    {
      "cell_type": "code",
      "metadata": {
        "id": "IGAPGCUwjnmZ",
        "colab_type": "code",
        "outputId": "17ea8120-0ab9-4ca5-c97a-34ea73e33e1b",
        "colab": {
          "base_uri": "https://localhost:8080/",
          "height": 297
        }
      },
      "source": [
        "data_cl.describe()"
      ],
      "execution_count": 0,
      "outputs": [
        {
          "output_type": "execute_result",
          "data": {
            "text/html": [
              "<div>\n",
              "<style scoped>\n",
              "    .dataframe tbody tr th:only-of-type {\n",
              "        vertical-align: middle;\n",
              "    }\n",
              "\n",
              "    .dataframe tbody tr th {\n",
              "        vertical-align: top;\n",
              "    }\n",
              "\n",
              "    .dataframe thead th {\n",
              "        text-align: right;\n",
              "    }\n",
              "</style>\n",
              "<table border=\"1\" class=\"dataframe\">\n",
              "  <thead>\n",
              "    <tr style=\"text-align: right;\">\n",
              "      <th></th>\n",
              "      <th>item_id</th>\n",
              "      <th>shop_id</th>\n",
              "      <th>date_block_num</th>\n",
              "      <th>sales_month</th>\n",
              "    </tr>\n",
              "  </thead>\n",
              "  <tbody>\n",
              "    <tr>\n",
              "      <th>count</th>\n",
              "      <td>1.609124e+06</td>\n",
              "      <td>1.609124e+06</td>\n",
              "      <td>1.609124e+06</td>\n",
              "      <td>1.609124e+06</td>\n",
              "    </tr>\n",
              "    <tr>\n",
              "      <th>mean</th>\n",
              "      <td>1.068099e+04</td>\n",
              "      <td>3.280585e+01</td>\n",
              "      <td>1.466479e+01</td>\n",
              "      <td>2.022806e+00</td>\n",
              "    </tr>\n",
              "    <tr>\n",
              "      <th>std</th>\n",
              "      <td>6.238883e+03</td>\n",
              "      <td>1.653701e+01</td>\n",
              "      <td>9.542322e+00</td>\n",
              "      <td>2.577964e+00</td>\n",
              "    </tr>\n",
              "    <tr>\n",
              "      <th>min</th>\n",
              "      <td>0.000000e+00</td>\n",
              "      <td>0.000000e+00</td>\n",
              "      <td>0.000000e+00</td>\n",
              "      <td>0.000000e+00</td>\n",
              "    </tr>\n",
              "    <tr>\n",
              "      <th>25%</th>\n",
              "      <td>5.045000e+03</td>\n",
              "      <td>2.100000e+01</td>\n",
              "      <td>6.000000e+00</td>\n",
              "      <td>1.000000e+00</td>\n",
              "    </tr>\n",
              "    <tr>\n",
              "      <th>50%</th>\n",
              "      <td>1.049700e+04</td>\n",
              "      <td>3.100000e+01</td>\n",
              "      <td>1.400000e+01</td>\n",
              "      <td>1.000000e+00</td>\n",
              "    </tr>\n",
              "    <tr>\n",
              "      <th>75%</th>\n",
              "      <td>1.606000e+04</td>\n",
              "      <td>4.700000e+01</td>\n",
              "      <td>2.300000e+01</td>\n",
              "      <td>2.000000e+00</td>\n",
              "    </tr>\n",
              "    <tr>\n",
              "      <th>max</th>\n",
              "      <td>2.216900e+04</td>\n",
              "      <td>5.900000e+01</td>\n",
              "      <td>3.300000e+01</td>\n",
              "      <td>2.000000e+01</td>\n",
              "    </tr>\n",
              "  </tbody>\n",
              "</table>\n",
              "</div>"
            ],
            "text/plain": [
              "            item_id       shop_id  date_block_num   sales_month\n",
              "count  1.609124e+06  1.609124e+06    1.609124e+06  1.609124e+06\n",
              "mean   1.068099e+04  3.280585e+01    1.466479e+01  2.022806e+00\n",
              "std    6.238883e+03  1.653701e+01    9.542322e+00  2.577964e+00\n",
              "min    0.000000e+00  0.000000e+00    0.000000e+00  0.000000e+00\n",
              "25%    5.045000e+03  2.100000e+01    6.000000e+00  1.000000e+00\n",
              "50%    1.049700e+04  3.100000e+01    1.400000e+01  1.000000e+00\n",
              "75%    1.606000e+04  4.700000e+01    2.300000e+01  2.000000e+00\n",
              "max    2.216900e+04  5.900000e+01    3.300000e+01  2.000000e+01"
            ]
          },
          "metadata": {
            "tags": []
          },
          "execution_count": 32
        }
      ]
    },
    {
      "cell_type": "code",
      "metadata": {
        "id": "dlD1aZyHjnmc",
        "colab_type": "code",
        "colab": {}
      },
      "source": [
        "data_cl['last_month_sales'] = data_cl.groupby(['item_id', 'shop_id'])['sales_month'].shift()"
      ],
      "execution_count": 0,
      "outputs": []
    },
    {
      "cell_type": "code",
      "metadata": {
        "id": "8iNZc1osjnmj",
        "colab_type": "code",
        "colab": {}
      },
      "source": [
        "data_cl['last_month_diff'] = data_cl.groupby(['item_id', 'shop_id'])['last_month_sales'].diff()"
      ],
      "execution_count": 0,
      "outputs": []
    },
    {
      "cell_type": "code",
      "metadata": {
        "colab_type": "code",
        "id": "Zwqm1-qPqcG0",
        "colab": {}
      },
      "source": [
        "data_cl = data_cl.dropna()"
      ],
      "execution_count": 0,
      "outputs": []
    },
    {
      "cell_type": "code",
      "metadata": {
        "colab_type": "code",
        "outputId": "4cec869b-ccd1-47f8-9794-5cf70730f0e6",
        "id": "yHsh-gtdqsCn",
        "colab": {
          "base_uri": "https://localhost:8080/",
          "height": 51
        }
      },
      "source": [
        "# Now, we split data en train and test\n",
        "# Last 8 months will be our test set, the rest data will be used to train our model. \n",
        "# That give us a 80/20 proportion\n",
        "\n",
        "val_set_cl = data_cl[data_cl['date_block_num'] > 25]\n",
        "train_set_cl = data_cl[data_cl['date_block_num'] <= 25]\n",
        "print(len(val_set_cl)/len(data_cl))\n",
        "print(len(train_set_cl)/len(data_cl))"
      ],
      "execution_count": 0,
      "outputs": [
        {
          "output_type": "stream",
          "text": [
            "0.2077394444340374\n",
            "0.7922605555659625\n"
          ],
          "name": "stdout"
        }
      ]
    },
    {
      "cell_type": "code",
      "metadata": {
        "scrolled": false,
        "colab_type": "code",
        "id": "7E3raBCRq-2w",
        "colab": {}
      },
      "source": [
        "xtr_cl, xts_cl = train_set_cl.drop(['sales_month'], axis = 1), val_set_cl.drop(['sales_month'], axis = 1)\n",
        "ytr_cl, yts_cl = train_set_cl['sales_month'].values, val_set_cl['sales_month'].values"
      ],
      "execution_count": 0,
      "outputs": []
    },
    {
      "cell_type": "code",
      "metadata": {
        "colab_type": "code",
        "outputId": "8087bfe2-cbf6-4660-d7c4-8dd2b0305970",
        "id": "5N-IfnNprRHu",
        "colab": {
          "base_uri": "https://localhost:8080/",
          "height": 136
        }
      },
      "source": [
        "# Create regression object\n",
        "rf_cl = RandomForestRegressor(n_estimators = 100, random_state=0)\n",
        "\n",
        "# Train the model on training data\n",
        "rf_cl.fit(xtr_cl, ytr_cl)"
      ],
      "execution_count": 0,
      "outputs": [
        {
          "output_type": "execute_result",
          "data": {
            "text/plain": [
              "RandomForestRegressor(bootstrap=True, ccp_alpha=0.0, criterion='mse',\n",
              "                      max_depth=None, max_features='auto', max_leaf_nodes=None,\n",
              "                      max_samples=None, min_impurity_decrease=0.0,\n",
              "                      min_impurity_split=None, min_samples_leaf=1,\n",
              "                      min_samples_split=2, min_weight_fraction_leaf=0.0,\n",
              "                      n_estimators=100, n_jobs=None, oob_score=False,\n",
              "                      random_state=0, verbose=0, warm_start=False)"
            ]
          },
          "metadata": {
            "tags": []
          },
          "execution_count": 40
        }
      ]
    },
    {
      "cell_type": "code",
      "metadata": {
        "scrolled": true,
        "colab_type": "code",
        "id": "rV73376uuXqI",
        "colab": {}
      },
      "source": [
        "p_cl = rf_cl.predict(xts_cl)"
      ],
      "execution_count": 0,
      "outputs": []
    },
    {
      "cell_type": "code",
      "metadata": {
        "id": "30oW44YmucaW",
        "colab_type": "code",
        "outputId": "a293a257-b039-4090-e862-3f714571688d",
        "colab": {
          "base_uri": "https://localhost:8080/",
          "height": 34
        }
      },
      "source": [
        "rmse_cl = np.sqrt(mean_squared_error(yts_cl, p_cl))\n",
        "rmse_cl"
      ],
      "execution_count": 0,
      "outputs": [
        {
          "output_type": "execute_result",
          "data": {
            "text/plain": [
              "1.5547902419488473"
            ]
          },
          "metadata": {
            "tags": []
          },
          "execution_count": 42
        }
      ]
    },
    {
      "cell_type": "code",
      "metadata": {
        "id": "SPfFHl4uun-0",
        "colab_type": "code",
        "colab": {}
      },
      "source": [
        ""
      ],
      "execution_count": 0,
      "outputs": []
    }
  ]
}